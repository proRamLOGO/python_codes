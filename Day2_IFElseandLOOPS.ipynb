{
 "cells": [
  {
   "cell_type": "markdown",
   "metadata": {},
   "source": [
    "# If Elif Else"
   ]
  },
  {
   "cell_type": "code",
   "execution_count": null,
   "metadata": {},
   "outputs": [],
   "source": [
    "# IF Elif Else Ladder\n",
    "if <condition> :\n",
    "    pass\n",
    "[elif <condition> :\n",
    "    pass]\n",
    "[elif <condition> :\n",
    "    pass]\n",
    "...\n",
    "[else :\n",
    "    pass]\n"
   ]
  },
  {
   "cell_type": "code",
   "execution_count": null,
   "metadata": {},
   "outputs": [],
   "source": [
    "# Only IF Elif Ladder\n",
    "if <condition> :\n",
    "    pass\n",
    "[elif <condition> :\n",
    "    pass]\n",
    "[elif <condition> :\n",
    "    pass]\n",
    "...\n"
   ]
  },
  {
   "cell_type": "code",
   "execution_count": null,
   "metadata": {},
   "outputs": [],
   "source": [
    "# Only IF Else \n",
    "if <condition> :\n",
    "    pass\n",
    "[else :\n",
    "    pass]\n"
   ]
  },
  {
   "cell_type": "code",
   "execution_count": null,
   "metadata": {},
   "outputs": [],
   "source": [
    "# Only If\n",
    "if <condition> :\n",
    "    pass\n"
   ]
  },
  {
   "cell_type": "code",
   "execution_count": null,
   "metadata": {},
   "outputs": [],
   "source": [
    "# Nested If Else\n",
    "# There is one more if elif else block present inside an if block\n",
    "if <condition> :\n",
    "    if <condition> :\n",
    "        pass\n",
    "    [elif <condition> :\n",
    "        pass]\n",
    "    [elif <condition> :\n",
    "        pass]\n",
    "    ...\n",
    "    [else :\n",
    "        pass] \n",
    "\n",
    "[elif <condition> :\n",
    "    pass]\n",
    "[elif <condition> :\n",
    "    pass]\n",
    "...\n",
    "[else :\n",
    "    pass]\n",
    "\n"
   ]
  },
  {
   "cell_type": "markdown",
   "metadata": {},
   "source": [
    "#### Program to do as follows:"
   ]
  },
  {
   "cell_type": "code",
   "execution_count": null,
   "metadata": {},
   "outputs": [],
   "source": [
    "\n",
    "'''\n",
    "take a number input from user.\n",
    "check if number is divisible by 2 or not.\n",
    "    if it is then check wether it is divisible by 4 or not.\n",
    "        If it is then print \"divisble by 4\".\n",
    "BUT IF IT IS NOT DIVISIBLE BY 2 THEN PRINT \"ODD\"\n",
    "'''\n",
    "x = int(input())\n",
    "if x%2==0 :\n",
    "    if x%4==0 :\n",
    "        print(\"Divisible by 4\")\n",
    "else :\n",
    "    print(\"odd\")\n"
   ]
  },
  {
   "cell_type": "markdown",
   "metadata": {},
   "source": [
    "#### Program to check if there's a vowel in string or not."
   ]
  },
  {
   "cell_type": "code",
   "execution_count": null,
   "metadata": {},
   "outputs": [],
   "source": [
    "# Method 1\n",
    "s = input(\"Enter a string\")\n",
    "if 'a' in s :\n",
    "    print (\"Print Vowel\")\n",
    "elif 'e' in s :\n",
    "    print (\"Print Vowel\")\n",
    "elif 'i' in s :\n",
    "    print (\"Print Vowel\")\n",
    "elif 'o' in s :\n",
    "    print (\"Print Vowel\")\n",
    "elif 'u' in s :\n",
    "    print (\"Print Vowel\")\n",
    "else :\n",
    "    print(\"Constant\")\n"
   ]
  },
  {
   "cell_type": "code",
   "execution_count": null,
   "metadata": {},
   "outputs": [],
   "source": [
    "# Method2\n",
    "s = input(\"Enter a string\")\n",
    "if 'a' in s or 'e' in s or 'i' in s or 'o' in s or 'u' in s :\n",
    "    print (\"Print Vowel\")\n",
    "else :\n",
    "    print(\"Constant\")\n"
   ]
  },
  {
   "cell_type": "markdown",
   "metadata": {},
   "source": [
    "# LOOPS"
   ]
  },
  {
   "cell_type": "markdown",
   "metadata": {},
   "source": [
    "### While LOOP"
   ]
  },
  {
   "cell_type": "code",
   "execution_count": null,
   "metadata": {},
   "outputs": [],
   "source": [
    "#While Loop Syntax\n",
    "while <condition> :\n",
    "    pass\n",
    "else :\n",
    "    pass"
   ]
  },
  {
   "cell_type": "code",
   "execution_count": null,
   "metadata": {},
   "outputs": [],
   "source": [
    "count=0;\n",
    "while(count<10):\n",
    "    print ('The count is:',count);\n",
    "    count=count+1;\n",
    "else :\n",
    "    print('Invalid');\n"
   ]
  },
  {
   "cell_type": "markdown",
   "metadata": {},
   "source": [
    "### For LOOP"
   ]
  },
  {
   "cell_type": "code",
   "execution_count": null,
   "metadata": {},
   "outputs": [],
   "source": [
    "#For Loop Syntax\n",
    "for <iterator> in <sequence/iteratable> :\n",
    "    pass\n",
    "else :\n",
    "    pass"
   ]
  },
  {
   "cell_type": "code",
   "execution_count": null,
   "metadata": {},
   "outputs": [],
   "source": [
    "for i in \"HelloClass\":\n",
    "    print(i)"
   ]
  },
  {
   "cell_type": "code",
   "execution_count": null,
   "metadata": {},
   "outputs": [],
   "source": [
    "#range([start,] stop[, step])\n",
    "\n",
    "for i in range(0,10,1) :\n",
    "    print(i)"
   ]
  },
  {
   "cell_type": "code",
   "execution_count": null,
   "metadata": {},
   "outputs": [],
   "source": []
  }
 ],
 "metadata": {
  "kernelspec": {
   "display_name": "Python 3",
   "language": "python",
   "name": "python3"
  },
  "language_info": {
   "codemirror_mode": {
    "name": "ipython",
    "version": 3
   },
   "file_extension": ".py",
   "mimetype": "text/x-python",
   "name": "python",
   "nbconvert_exporter": "python",
   "pygments_lexer": "ipython3",
   "version": "3.6.5"
  }
 },
 "nbformat": 4,
 "nbformat_minor": 2
}
