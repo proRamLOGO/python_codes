{
 "cells": [
  {
   "cell_type": "markdown",
   "metadata": {},
   "source": [
    "## Ques.) Grading System"
   ]
  },
  {
   "cell_type": "code",
   "execution_count": null,
   "metadata": {},
   "outputs": [],
   "source": [
    "x = int(input(\"Marks :   \"))\n",
    "if x < 25 :\n",
    "    print(\"F\")\n",
    "elif 25 <= x and x < 45 :\n",
    "    print(\"E\")\n",
    "elif 45 <= x and x < 50 :\n",
    "    print(\"D\")\n",
    "elif (50 <= x) and (x < 60) :\n",
    "    print(\"C\")\n",
    "elif 60 <= x and x < 80 :\n",
    "    print(\"B\")\n",
    "else :\n",
    "    print(\"A\")"
   ]
  },
  {
   "cell_type": "markdown",
   "metadata": {},
   "source": [
    "## Ques.) For the series :\n",
    "1 + (x^2 / 2! ) + ( x^3 / 3! ) + ..... n\n"
   ]
  },
  {
   "cell_type": "code",
   "execution_count": null,
   "metadata": {},
   "outputs": [],
   "source": [
    "n = int(input(\"Enter no. of terms :     \"))\n",
    "x = int(input(\"Enter val          :     \"))\n",
    "\n",
    "s = 1 \n",
    "for i in range(2,n+1) :\n",
    "    #Numerator\n",
    "    num = x**i\n",
    "\n",
    "    # Denominator\n",
    "    # Factorial\n",
    "    fact = 1\n",
    "    for j in range(1,i+1) :\n",
    "        fact *= j\n",
    "\n",
    "    res = (num//fact)\n",
    "\n",
    "    s += res\n",
    "print(\"Sum is : \",s)"
   ]
  },
  {
   "cell_type": "markdown",
   "metadata": {},
   "source": [
    "## Ques.) To seperate digits of any number :\n"
   ]
  },
  {
   "cell_type": "code",
   "execution_count": null,
   "metadata": {},
   "outputs": [],
   "source": [
    "x = int(input(\"Enter no. :     \"))\n",
    "l = []\n",
    "while x != 0 :\n",
    "    l += [x%10]\n",
    "    x //= 10\n",
    "print(l)"
   ]
  },
  {
   "cell_type": "markdown",
   "metadata": {},
   "source": [
    "#### Here you may notice the digits obtained are in reverse order so with the help of lists you can store and reverse it\n"
   ]
  },
  {
   "cell_type": "code",
   "execution_count": null,
   "metadata": {},
   "outputs": [],
   "source": [
    "l = l[::-1]\n",
    "print(l)"
   ]
  },
  {
   "cell_type": "markdown",
   "metadata": {},
   "source": [
    "#### Now you can perform operations on it like adding digits, finding reverse of ny no."
   ]
  },
  {
   "cell_type": "code",
   "execution_count": null,
   "metadata": {},
   "outputs": [],
   "source": [
    "#Method 1 : Mathematical\n",
    "x = int(input(\"Enter no. :     \"))\n",
    "num = x\n",
    "no_reverse = 0\n",
    "while x != 0 :\n",
    "    no_reverse += x%10\n",
    "    no_reverse *= 10\n",
    "    x //= 10\n",
    "print(no_reverse)\n",
    "# Here we notice an extra 0. SO how to deal with that. Just divide by 10\n",
    "# after loop ends.\n",
    "no_reverse //= 10\n",
    "print(no_reverse) #Now print it.\n",
    "\n",
    "#Method 2 to reverse a no. : Insert in List and reverse and play with it. "
   ]
  },
  {
   "cell_type": "markdown",
   "metadata": {},
   "source": [
    "## Ques.) Binary No. of any integer\n"
   ]
  },
  {
   "cell_type": "code",
   "execution_count": 6,
   "metadata": {},
   "outputs": [
    {
     "name": "stdout",
     "output_type": "stream",
     "text": [
      "Enter a no. :        25\n",
      "25 's binary is  10011\n"
     ]
    }
   ],
   "source": [
    "x = int(input(\"Enter a no. :        \"))\n",
    "res = 0\n",
    "num = x\n",
    "while x != 0 :\n",
    "    res += x%2 \n",
    "    res *= 10\n",
    "    x //= 2\n",
    "res //= 10\n",
    "print (num,\"'s binary is \",res)"
   ]
  },
  {
   "cell_type": "markdown",
   "metadata": {},
   "source": [
    "## Ques.) Sum of first n terms of : 9 + 99 + 999 ... n\n"
   ]
  },
  {
   "cell_type": "code",
   "execution_count": 7,
   "metadata": {},
   "outputs": [
    {
     "name": "stdout",
     "output_type": "stream",
     "text": [
      "Give n :    3\n",
      "1107\n"
     ]
    }
   ],
   "source": [
    "n = int(input(\"Give n :    \"))\n",
    "res = 0\n",
    "term = 9\n",
    "for i in range(n) :\n",
    "    res += term\n",
    "    term *= 10\n",
    "    term += 9\n",
    "print(res)"
   ]
  },
  {
   "cell_type": "markdown",
   "metadata": {},
   "source": [
    "## Ques.) FIBONNACI NUMBERS. Print nth fibonnaci numbers\n"
   ]
  },
  {
   "cell_type": "code",
   "execution_count": 9,
   "metadata": {},
   "outputs": [
    {
     "name": "stdout",
     "output_type": "stream",
     "text": [
      "6\n",
      "8\n"
     ]
    }
   ],
   "source": [
    "n = int(input())\n",
    "\n",
    "fib1 = 1\n",
    "fib2 = 1\n",
    "l = [1, 1]\n",
    "for i in range(2,n+1) :\n",
    "    l += [fib1+fib2]\n",
    "    temp = fib2\n",
    "    fib2 = fib1\n",
    "    fib1 = temp+fib2\n",
    "print(l[n-1])\n",
    "\n"
   ]
  },
  {
   "cell_type": "code",
   "execution_count": null,
   "metadata": {},
   "outputs": [],
   "source": []
  }
 ],
 "metadata": {
  "kernelspec": {
   "display_name": "Python 3",
   "language": "python",
   "name": "python3"
  },
  "language_info": {
   "codemirror_mode": {
    "name": "ipython",
    "version": 3
   },
   "file_extension": ".py",
   "mimetype": "text/x-python",
   "name": "python",
   "nbconvert_exporter": "python",
   "pygments_lexer": "ipython3",
   "version": "3.6.5"
  }
 },
 "nbformat": 4,
 "nbformat_minor": 2
}
