{
 "cells": [
  {
   "cell_type": "code",
   "execution_count": null,
   "metadata": {},
   "outputs": [],
   "source": [
    "x = int(input(\"Enter a no. :     \"))\n",
    "y = input(\"String :     \")\n",
    "z = float(input(\"Enter a no. again :       \"))\n",
    "print(\"Its a no.\",x,\"Its a float no.\",z,\"Its a string.\",y)\n"
   ]
  },
  {
   "cell_type": "code",
   "execution_count": null,
   "metadata": {},
   "outputs": [],
   "source": [
    "print(\"Its a no.%i. Its a float no.%f. Its a string: %s\" %(10.6,4.56+5.9,\"qwfse\"))\n"
   ]
  },
  {
   "cell_type": "code",
   "execution_count": null,
   "metadata": {},
   "outputs": [],
   "source": [
    "print(\"Hello my val is {v1}. Floating men {v2}. String is {v3}\".format(v1=\"x\",v2=z, v3=\"dfh\"))\n"
   ]
  },
  {
   "cell_type": "code",
   "execution_count": null,
   "metadata": {},
   "outputs": [],
   "source": [
    "print(\"Hello{name1}and{name2}\".format(name1='foo',name2='bin'))\n"
   ]
  },
  {
   "cell_type": "code",
   "execution_count": null,
   "metadata": {
    "scrolled": true
   },
   "outputs": [],
   "source": [
    "\n",
    "# <str_to_be_sliced>[start:stop:step]\n",
    "\n",
    "s = input(\"Enter a string :       \")\n",
    "print(s[2:6:1])\n",
    "print(s[2:6])\n",
    "print(s[2:])\n",
    "print(s[:5])\n",
    "print(s[::3])"
   ]
  },
  {
   "cell_type": "code",
   "execution_count": null,
   "metadata": {},
   "outputs": [],
   "source": [
    "\n",
    "# <str_to_be_sliced>[start:stop:step]\n",
    "\n",
    "s = input(\"Enter a string :       \")\n",
    "print(s[-9:-3])\n"
   ]
  },
  {
   "cell_type": "code",
   "execution_count": null,
   "metadata": {},
   "outputs": [],
   "source": [
    "s = input(\"Enter a string :       \")\n",
    "x = int(input(\"Give a range.\\nStart :   \"))\n",
    "y = int(input(\"Stop  :   \"))\n",
    "print(s[(len(\"jfkhlll\")-1)//4:y])\n"
   ]
  }
 ],
 "metadata": {
  "kernelspec": {
   "display_name": "Python 3",
   "language": "python",
   "name": "python3"
  },
  "language_info": {
   "codemirror_mode": {
    "name": "ipython",
    "version": 3
   },
   "file_extension": ".py",
   "mimetype": "text/x-python",
   "name": "python",
   "nbconvert_exporter": "python",
   "pygments_lexer": "ipython3",
   "version": "3.6.5"
  }
 },
 "nbformat": 4,
 "nbformat_minor": 2
}
