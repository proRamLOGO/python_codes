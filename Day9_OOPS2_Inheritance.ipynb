{
 "cells": [
  {
   "cell_type": "code",
   "execution_count": 1,
   "metadata": {},
   "outputs": [],
   "source": [
    "#Single Level\n",
    "class creature(object) :\n",
    "    def __init__(self) :\n",
    "        self.inhales = None\n",
    "        self.exhales = None\n",
    "        self.food = None\n",
    "        self.size = None\n",
    "        \n",
    "class Human( creature ) :\n",
    "    def __init__(self) :\n",
    "        self.no_of_legs = None\n",
    "        self.complexion = None\n",
    "        self.nationality = None"
   ]
  },
  {
   "cell_type": "code",
   "execution_count": 2,
   "metadata": {},
   "outputs": [],
   "source": [
    "Shubh = Human()"
   ]
  },
  {
   "cell_type": "code",
   "execution_count": 3,
   "metadata": {},
   "outputs": [],
   "source": [
    "Shubh.no_of_legs = 2"
   ]
  },
  {
   "cell_type": "code",
   "execution_count": 4,
   "metadata": {},
   "outputs": [],
   "source": [
    "Shubh.exhales = 'Carbon-dioxide'"
   ]
  },
  {
   "cell_type": "code",
   "execution_count": 5,
   "metadata": {},
   "outputs": [
    {
     "name": "stdout",
     "output_type": "stream",
     "text": [
      "Carbon-dioxide\n"
     ]
    }
   ],
   "source": [
    "print(Shubh.exhales)"
   ]
  },
  {
   "cell_type": "code",
   "execution_count": null,
   "metadata": {},
   "outputs": [],
   "source": [
    "#Multiple\n",
    "\n",
    "class A :\n",
    "    pass\n",
    "class b(A) :\n",
    "    pass\n",
    "class d(b) :\n",
    "    pass"
   ]
  },
  {
   "cell_type": "code",
   "execution_count": null,
   "metadata": {},
   "outputs": [],
   "source": [
    "# Hierarchial\n",
    "class A :\n",
    "    pass\n",
    "class b(A) :\n",
    "    pass\n",
    "class d(A) :\n",
    "    pass"
   ]
  },
  {
   "cell_type": "code",
   "execution_count": null,
   "metadata": {},
   "outputs": [],
   "source": [
    "#Multiple\n",
    "\n",
    "class A :\n",
    "    pass\n",
    "class b :\n",
    "    pass\n",
    "class d(A,b) :\n",
    "    pass"
   ]
  }
 ],
 "metadata": {
  "kernelspec": {
   "display_name": "Python 3",
   "language": "python",
   "name": "python3"
  },
  "language_info": {
   "codemirror_mode": {
    "name": "ipython",
    "version": 3
   },
   "file_extension": ".py",
   "mimetype": "text/x-python",
   "name": "python",
   "nbconvert_exporter": "python",
   "pygments_lexer": "ipython3",
   "version": "3.6.5"
  }
 },
 "nbformat": 4,
 "nbformat_minor": 2
}
