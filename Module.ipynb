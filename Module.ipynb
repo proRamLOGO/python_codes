{
 "cells": [
  {
   "cell_type": "markdown",
   "metadata": {},
   "source": [
    "# Our Own module"
   ]
  },
  {
   "cell_type": "code",
   "execution_count": null,
   "metadata": {},
   "outputs": [],
   "source": [
    "def sum(a,b,c) :\n",
    "    \"\"\"\n",
    "    Helps to sum three nos. passed as arguments\n",
    "    \"\"\"\n",
    "    return a+b+c"
   ]
  },
  {
   "cell_type": "code",
   "execution_count": null,
   "metadata": {},
   "outputs": [],
   "source": [
    "def rtp2(n) :\n",
    "    \"\"\"\n",
    "    Return 2^n\n",
    "    \"\"\"\n",
    "    return 1 << n"
   ]
  },
  {
   "cell_type": "code",
   "execution_count": null,
   "metadata": {},
   "outputs": [],
   "source": [
    "class student( object ) :\n",
    "    \n",
    "    def __init__( self, name ) :\n",
    "        self.name = name\n",
    "        self.age = None\n",
    "        self._class = None\n",
    "    \n",
    "    def setDetails(self) :\n",
    "        \"\"\"\n",
    "        Method to set details for instance of type student.\n",
    "        \n",
    "        INput - None\n",
    "        OUTput - None\n",
    "        \"\"\"\n",
    "        self.age = int(input(\"Age:    \"))\n",
    "        self._class = int(input(\"Class :   \"))\n",
    "    \n",
    "    def getDetails(self) :\n",
    "        print(self.age, self._class)\n",
    "        \n",
    "    def __doc__(self) :\n",
    "        return \"sddgfhgjh\"\n",
    "    \n",
    "    def __str__(self) :\n",
    "        return (\"This is student type of instance of %s\" %(self.name) )\n",
    "    "
   ]
  },
  {
   "cell_type": "code",
   "execution_count": null,
   "metadata": {},
   "outputs": [],
   "source": [
    "strengthOfClass = 47\n",
    "populatedOS = 'Windows'"
   ]
  },
  {
   "cell_type": "code",
   "execution_count": null,
   "metadata": {},
   "outputs": [],
   "source": [
    "help(student)"
   ]
  },
  {
   "cell_type": "code",
   "execution_count": null,
   "metadata": {},
   "outputs": [],
   "source": [
    "type([])"
   ]
  },
  {
   "cell_type": "code",
   "execution_count": null,
   "metadata": {},
   "outputs": [],
   "source": [
    "x = list()\n",
    "print(x)"
   ]
  },
  {
   "cell_type": "code",
   "execution_count": null,
   "metadata": {},
   "outputs": [],
   "source": [
    "x = student('shubh')"
   ]
  },
  {
   "cell_type": "code",
   "execution_count": null,
   "metadata": {},
   "outputs": [],
   "source": [
    "print(x)"
   ]
  },
  {
   "cell_type": "code",
   "execution_count": null,
   "metadata": {},
   "outputs": [],
   "source": [
    "help(x)"
   ]
  },
  {
   "cell_type": "code",
   "execution_count": null,
   "metadata": {},
   "outputs": [],
   "source": []
  },
  {
   "cell_type": "code",
   "execution_count": null,
   "metadata": {},
   "outputs": [],
   "source": [
    "input( type='password')"
   ]
  },
  {
   "cell_type": "code",
   "execution_count": null,
   "metadata": {},
   "outputs": [],
   "source": []
  }
 ],
 "metadata": {
  "kernelspec": {
   "display_name": "Python 3",
   "language": "python",
   "name": "python3"
  },
  "language_info": {
   "codemirror_mode": {
    "name": "ipython",
    "version": 3
   },
   "file_extension": ".py",
   "mimetype": "text/x-python",
   "name": "python",
   "nbconvert_exporter": "python",
   "pygments_lexer": "ipython3",
   "version": "3.6.5"
  }
 },
 "nbformat": 4,
 "nbformat_minor": 2
}
