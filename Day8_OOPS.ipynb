{
 "cells": [
  {
   "cell_type": "markdown",
   "metadata": {},
   "source": [
    "# Object Oriented Programming"
   ]
  },
  {
   "cell_type": "code",
   "execution_count": null,
   "metadata": {},
   "outputs": [],
   "source": [
    "#Syntax to define a class\n",
    "\n",
    "class <name> [(object)] :\n",
    "    \n",
    "    [Class_Attributes]\n",
    "    \n",
    "    def <__func_name__>(self, ...) :\n",
    "        pass\n",
    "    ...."
   ]
  },
  {
   "cell_type": "markdown",
   "metadata": {},
   "source": [
    "Remember why self was used. What was it ?!?!\n",
    "\n",
    "It was first parameter of every function in any class.\n",
    "\n",
    "It is used for refrencing of delf-attributes of any object."
   ]
  },
  {
   "cell_type": "code",
   "execution_count": null,
   "metadata": {},
   "outputs": [],
   "source": [
    "class Car(object) :\n",
    "    \n",
    "    #Constructor Function\n",
    "    def __init__(self) :\n",
    "        self.color = None\n",
    "        self._type = None\n",
    "        self.transmission = None\n",
    "    \n",
    "    def start(self) :\n",
    "        print(\"Grgggghhhhhhhh\")\n",
    "        \n",
    "    def drive(self) :\n",
    "        gear = int(input())\n",
    "        print(\"Driving in gear %i\" %(gear))"
   ]
  },
  {
   "cell_type": "code",
   "execution_count": null,
   "metadata": {},
   "outputs": [],
   "source": [
    "# An instance of Car class has been Created\n",
    "BMW = Car()"
   ]
  },
  {
   "cell_type": "markdown",
   "metadata": {},
   "source": [
    "### Let's access attributes and functions of this instance"
   ]
  },
  {
   "cell_type": "code",
   "execution_count": null,
   "metadata": {},
   "outputs": [],
   "source": [
    "#Attributes\n",
    "BMW.color = 'Black'\n",
    "BMW._type = 'SUV'\n",
    "BMW.transmission = 'DCT'"
   ]
  },
  {
   "cell_type": "code",
   "execution_count": null,
   "metadata": {},
   "outputs": [],
   "source": [
    "#Functions / Behaviours\n",
    "BMW.start()\n",
    "BMW.drive()"
   ]
  },
  {
   "cell_type": "code",
   "execution_count": null,
   "metadata": {},
   "outputs": [],
   "source": [
    "print(BMW.transmission)"
   ]
  },
  {
   "cell_type": "markdown",
   "metadata": {},
   "source": [
    "### Hey This also works !!!"
   ]
  },
  {
   "cell_type": "code",
   "execution_count": null,
   "metadata": {},
   "outputs": [],
   "source": [
    "Car._type"
   ]
  },
  {
   "cell_type": "code",
   "execution_count": null,
   "metadata": {},
   "outputs": [],
   "source": []
  },
  {
   "cell_type": "code",
   "execution_count": null,
   "metadata": {},
   "outputs": [],
   "source": [
    "class Car(object) :\n",
    "    \n",
    "    #Parameterized COnstructor FUnction\n",
    "    def __init__(self, clr, tp, trans) :\n",
    "        self.color = clr\n",
    "        self._type = tp\n",
    "        self.transmission = trans\n",
    "    \n",
    "    def start(self) :\n",
    "        print(\"Grgggghhhhhhhh\")\n",
    "        \n",
    "    def drive(self) :\n",
    "        gear = int(input())\n",
    "        print(\"Driving in gear %i\" %(gear))"
   ]
  },
  {
   "cell_type": "code",
   "execution_count": null,
   "metadata": {},
   "outputs": [],
   "source": [
    "Hector = Car('white','SUV','DCT')\n",
    "# When we create an instance if any class, first of all that class' cinstructor is called."
   ]
  },
  {
   "cell_type": "code",
   "execution_count": null,
   "metadata": {},
   "outputs": [],
   "source": [
    "Hector.transmission"
   ]
  },
  {
   "cell_type": "markdown",
   "metadata": {},
   "source": [
    "Why we need to use self ??. Here is the illustration"
   ]
  },
  {
   "cell_type": "code",
   "execution_count": null,
   "metadata": {},
   "outputs": [],
   "source": [
    "class x :\n",
    "    attr = 1\n",
    "    "
   ]
  },
  {
   "cell_type": "code",
   "execution_count": null,
   "metadata": {},
   "outputs": [],
   "source": [
    "x.attr"
   ]
  },
  {
   "cell_type": "code",
   "execution_count": null,
   "metadata": {},
   "outputs": [],
   "source": [
    "x1 = x()"
   ]
  },
  {
   "cell_type": "code",
   "execution_count": null,
   "metadata": {},
   "outputs": [],
   "source": [
    "x1.attr"
   ]
  },
  {
   "cell_type": "code",
   "execution_count": null,
   "metadata": {},
   "outputs": [],
   "source": [
    "x.attr = 10"
   ]
  },
  {
   "cell_type": "markdown",
   "metadata": {},
   "source": [
    "## Let's crate a student class."
   ]
  },
  {
   "cell_type": "code",
   "execution_count": null,
   "metadata": {},
   "outputs": [],
   "source": [
    "class student(object) :\n",
    "    \n",
    "    def __init__(self) :\n",
    "        self.name = None\n",
    "        self.marks = None\n",
    "        self.admNo = None\n",
    "        self.contact = None\n",
    "        self.age = None\n",
    "        self.bg = None\n",
    "        \n",
    "    def inputDetails(self) :\n",
    "        self.name = input('Name :    ')\n",
    "        self.marks = [ int(i) for i in input('Enter marks of 5 subjects:    \\n').split() ]\n",
    "        self.admNo = int(input('Admission No. :    '))\n",
    "        self.contact = input('Contact :    ')\n",
    "        self.age = int(input('Age :    '))\n",
    "        self.bg = input('Blood Group :    ')\n",
    "    \n",
    "    def getDetails(self) :\n",
    "        print('Name of student with Admission No. %i, of age  %i is %s. His marks for 5 subjects are %i, %i, %i, %i, %i. Contact him at %s' %(self.admNo, self.age, self.name, self.marks[0], self.marks[1], self.marks[2], self.marks[3], self.marks[4], self.contact ) )        "
   ]
  },
  {
   "cell_type": "code",
   "execution_count": null,
   "metadata": {},
   "outputs": [],
   "source": [
    "Shubh = student()"
   ]
  },
  {
   "cell_type": "code",
   "execution_count": null,
   "metadata": {},
   "outputs": [],
   "source": [
    "Shubh.inputDetails()"
   ]
  },
  {
   "cell_type": "code",
   "execution_count": null,
   "metadata": {},
   "outputs": [],
   "source": [
    "Shubh.getDetails()"
   ]
  },
  {
   "cell_type": "code",
   "execution_count": null,
   "metadata": {},
   "outputs": [],
   "source": []
  }
 ],
 "metadata": {
  "kernelspec": {
   "display_name": "Python 3",
   "language": "python",
   "name": "python3"
  },
  "language_info": {
   "codemirror_mode": {
    "name": "ipython",
    "version": 3
   },
   "file_extension": ".py",
   "mimetype": "text/x-python",
   "name": "python",
   "nbconvert_exporter": "python",
   "pygments_lexer": "ipython3",
   "version": "3.6.5"
  }
 },
 "nbformat": 4,
 "nbformat_minor": 2
}
