{
 "cells": [
  {
   "cell_type": "code",
   "execution_count": 1,
   "metadata": {},
   "outputs": [
    {
     "name": "stdout",
     "output_type": "stream",
     "text": [
      "Welcome to Python9799\n"
     ]
    }
   ],
   "source": [
    "file=open('python.txt','r')\n",
    "for a in file:\n",
    "    print(a)\n",
    "file.close()"
   ]
  },
  {
   "cell_type": "code",
   "execution_count": 2,
   "metadata": {},
   "outputs": [],
   "source": [
    "file=open('python.txt','w')\n",
    "file.write(\"Welcome to Python9799\")\n",
    "file.close()"
   ]
  },
  {
   "cell_type": "code",
   "execution_count": 9,
   "metadata": {},
   "outputs": [
    {
     "name": "stdout",
     "output_type": "stream",
     "text": [
      "Enter Number one:67890\n",
      "Enter Number two:12345\n"
     ]
    }
   ],
   "source": [
    "file=open('Calculator.txt','w')\n",
    "a=int(input(\"Enter Number one:\"))\n",
    "b=int(input(\"Enter Number two:\"))\n",
    "file.write(\"1st no is:\")\n",
    "file.write(\"%s\\nSecond no is%s\"%(a,b))\n",
    "file.write(\"\\nsum of two nos: \")\n",
    "file.write(\"%s\"%(a+b))\n",
    "file.close()\n"
   ]
  },
  {
   "cell_type": "code",
   "execution_count": 10,
   "metadata": {},
   "outputs": [
    {
     "name": "stdout",
     "output_type": "stream",
     "text": [
      "1st no is:67890\n",
      "\n",
      "Second no is12345\n",
      "\n",
      "sum of two nos: 80235\n"
     ]
    }
   ],
   "source": [
    "file=open('Calculator.txt','r')\n",
    "for a in file:\n",
    "    print(a)\n",
    "file.close()"
   ]
  }
 ],
 "metadata": {
  "kernelspec": {
   "display_name": "Python 3",
   "language": "python",
   "name": "python3"
  },
  "language_info": {
   "codemirror_mode": {
    "name": "ipython",
    "version": 3
   },
   "file_extension": ".py",
   "mimetype": "text/x-python",
   "name": "python",
   "nbconvert_exporter": "python",
   "pygments_lexer": "ipython3",
   "version": "3.6.5"
  }
 },
 "nbformat": 4,
 "nbformat_minor": 2
}
