{
 "cells": [
  {
   "cell_type": "markdown",
   "metadata": {},
   "source": [
    "# List Methods"
   ]
  },
  {
   "cell_type": "code",
   "execution_count": null,
   "metadata": {},
   "outputs": [],
   "source": [
    "l = list()\n",
    "help(l)"
   ]
  },
  {
   "cell_type": "code",
   "execution_count": null,
   "metadata": {},
   "outputs": [],
   "source": [
    "# <list>.clear()\n",
    "l = [1,2,3,3]\n",
    "print(l)\n",
    "l.clear()\n",
    "print(l)"
   ]
  },
  {
   "cell_type": "code",
   "execution_count": null,
   "metadata": {},
   "outputs": [],
   "source": [
    "# <list>.count(val)\n",
    "l = [1,2,3,3,3,2,2,1,4]\n",
    "print(l.count(4))"
   ]
  },
  {
   "cell_type": "code",
   "execution_count": null,
   "metadata": {},
   "outputs": [],
   "source": [
    "#<list_nmame>.extend(iteratable/sequence)\n",
    "l = [1,2,3,4,5]\n",
    "p = [12,34,56]\n",
    "s = \"hbkk\"\n",
    "l.extend(p)\n",
    "print(l)\n",
    "l = [1,4,2,'ewf',34,34]\n",
    "l.extend(s)\n",
    "print(l)\n"
   ]
  },
  {
   "cell_type": "code",
   "execution_count": null,
   "metadata": {},
   "outputs": [],
   "source": [
    "#<lst_name>.index(val[,start[,stop]])\n",
    "l =[1,2,4,6,5,2]\n",
    "pos = l.index(4)\n",
    "print(pos)\n",
    "pos = l.index(2)\n",
    "print(pos)\n",
    "print(len(l)-(l[::-1].index(2))-1)\n",
    "\n",
    "pos = l.index(2)\n",
    "print(pos)\n"
   ]
  },
  {
   "cell_type": "code",
   "execution_count": null,
   "metadata": {},
   "outputs": [],
   "source": [
    "#lis.pop([index])\n",
    "l = [1,345,2,5,7,8]\n",
    "l.pop(3)\n",
    "print(l)\n",
    "l.pop()\n",
    "print(l)"
   ]
  },
  {
   "cell_type": "code",
   "execution_count": null,
   "metadata": {},
   "outputs": [],
   "source": [
    "#list.remove(val)\n",
    "l = [3,21,43,2,1,34,4]\n",
    "l.remove(21)\n",
    "print(l)\n",
    "l = [3,21,43,2,1,21,34,4]\n",
    "l.remove(21)\n",
    "print(l)"
   ]
  },
  {
   "cell_type": "code",
   "execution_count": null,
   "metadata": {},
   "outputs": [],
   "source": [
    "# <list>.reverse()\n",
    "l = [1,2,3,4,54]\n",
    "print(l[::-1])\n",
    "l.reverse()\n",
    "print(l)"
   ]
  },
  {
   "cell_type": "code",
   "execution_count": 2,
   "metadata": {},
   "outputs": [
    {
     "name": "stdout",
     "output_type": "stream",
     "text": [
      "[1, 2, 3, 5, 6, 6, 7, 8, 9, 9, 54]\n",
      "[54, 9, 9, 8, 7, 6, 6, 5, 3, 2, 1]\n",
      "[54, 9, 9, 8, 7, 6, 6, 5, 3, 2, 1]\n"
     ]
    }
   ],
   "source": [
    "# <list>.sort([reverse])\n",
    "#You can pass True or False in reverse. If True list will be sorted in descending order else by default\n",
    "#in ascending order\n",
    "\n",
    "#Ascending\n",
    "l = [1,3,2,54,6,5,6,8,7,9,9]\n",
    "l.sort()\n",
    "print(l)\n",
    "\n",
    "#Descending Way 1\n",
    "l = [1,3,2,54,6,5,6,8,7,9,9]\n",
    "l.sort(reverse=True)\n",
    "print(l)\n",
    "\n",
    "#Descending Way 2\n",
    "l = [1,3,2,54,6,5,6,8,7,9,9]\n",
    "l.sort()\n",
    "l = l[::-1] #JUGAAD - We sorted l in ascending order and then just reversed it :P . \n",
    "print(l)\n",
    "\n"
   ]
  },
  {
   "cell_type": "code",
   "execution_count": 4,
   "metadata": {},
   "outputs": [
    {
     "name": "stdout",
     "output_type": "stream",
     "text": [
      "[1, 2, 3, 5, 6, 6, 7, 8, 9, 9, 54]\n",
      "[1, 2, 3, 4, 5]\n"
     ]
    }
   ],
   "source": [
    "#THIS IS SORTED FUNCTION AND NOT A METHOD\n",
    "\n",
    "l = [1,3,2,54,6,5,6,8,7,9,9]\n",
    "l = sorted(l)\n",
    "print(l)\n",
    "\n",
    "# SORTED can be used on TUPLEs\n",
    "t = (1,5,2,4,3)\n",
    "t = sorted(t)\n",
    "print(t)"
   ]
  },
  {
   "cell_type": "code",
   "execution_count": null,
   "metadata": {},
   "outputs": [],
   "source": [
    "l =[1,2,3]\n",
    "l.extend([2,3,4])\n",
    "print(l)"
   ]
  },
  {
   "cell_type": "code",
   "execution_count": null,
   "metadata": {},
   "outputs": [],
   "source": [
    "s = \"qwfweqf\"\n",
    "s[2] = '45'"
   ]
  },
  {
   "cell_type": "markdown",
   "metadata": {},
   "source": [
    "# TUPLES "
   ]
  },
  {
   "cell_type": "code",
   "execution_count": null,
   "metadata": {},
   "outputs": [],
   "source": [
    "t = ()\n",
    "t = tuple()\n",
    "t = tuple([1,2,3,4]) # We sent a list and a tuple of it was made by tuple() function, then stored in t\n",
    "t = (1,2,34,4)\n",
    "print(t)\n",
    "print(type(t))\n",
    "print(len(t))\n"
   ]
  },
  {
   "cell_type": "code",
   "execution_count": null,
   "metadata": {},
   "outputs": [],
   "source": [
    "t[2] = 100 #Will give error"
   ]
  },
  {
   "cell_type": "code",
   "execution_count": null,
   "metadata": {},
   "outputs": [],
   "source": [
    "t = (1,2,3,4,5)\n",
    "t = 4\n",
    "print(t)\n"
   ]
  },
  {
   "cell_type": "code",
   "execution_count": 5,
   "metadata": {},
   "outputs": [
    {
     "name": "stdout",
     "output_type": "stream",
     "text": [
      "[1, 2, 3, 4, 5]\n"
     ]
    }
   ],
   "source": [
    "# SORTED can be used on TUPLEs\n",
    "t = (1,5,2,4,3)\n",
    "t = sorted(t)\n",
    "print(t)"
   ]
  },
  {
   "cell_type": "code",
   "execution_count": 6,
   "metadata": {},
   "outputs": [
    {
     "name": "stdout",
     "output_type": "stream",
     "text": [
      "1\n"
     ]
    }
   ],
   "source": [
    "# <tuple>.count(val)\n",
    "t = (1,2,3,3,3,2,2,1,4)\n",
    "print(t.count(4))"
   ]
  },
  {
   "cell_type": "code",
   "execution_count": 9,
   "metadata": {},
   "outputs": [
    {
     "name": "stdout",
     "output_type": "stream",
     "text": [
      "4\n"
     ]
    }
   ],
   "source": [
    "# <tuple>.index(val[,start[,stop]])\n",
    "t = (1,2,3,3,3,2,2,1,4)\n",
    "print(t.index(3)) \n",
    "print(t.index(3,4))\n",
    "print(t.index(3,4,5))"
   ]
  },
  {
   "cell_type": "markdown",
   "metadata": {},
   "source": [
    "# Dictionary"
   ]
  },
  {
   "cell_type": "code",
   "execution_count": null,
   "metadata": {},
   "outputs": [],
   "source": [
    "d = {}\n",
    "d = dict()\n",
    "d = {'Shubh':[1,2,['TT',\"Programming\"]] , 'Raman' : [1,[2,'w'],3]}\n",
    "print(d['Shubh'])\n",
    "\n",
    "print(d['Raman'])\n",
    "\n",
    "# To add a new key.\n",
    "d['Rohit'] = 56 \n",
    "print(d['Rohit'])\n",
    "d[ [90] ] = (1,4,2,(34,'sfdv'))\n",
    "print(d)"
   ]
  },
  {
   "cell_type": "code",
   "execution_count": null,
   "metadata": {},
   "outputs": [],
   "source": [
    "d = {}\n",
    "d = dict()\n",
    "d = {23:'wer' , 45:'wer' }\n",
    "print(d)"
   ]
  },
  {
   "cell_type": "code",
   "execution_count": null,
   "metadata": {},
   "outputs": [],
   "source": [
    "d = {}\n",
    "d = dict()\n",
    "d = {23:'wer' ,12:'345',(1,2,3):[5,6,7] ,23:45 } \n",
    "#Latest definition of a key will be stored. \n",
    "print(d)"
   ]
  },
  {
   "cell_type": "code",
   "execution_count": null,
   "metadata": {},
   "outputs": [],
   "source": [
    "# Updation\n",
    "d[23] = [0,0,0,0]\n",
    "print(d)\n"
   ]
  },
  {
   "cell_type": "code",
   "execution_count": null,
   "metadata": {},
   "outputs": [],
   "source": [
    "d = {'user1':'pass1','shubh':'proRam','raman':'rohit'}\n",
    "username = input(\"Enter username :    \")\n",
    "password = input(\"Enter password :    \")\n",
    "if d[username] == password :\n",
    "    print(\"LOGGED IN\")\n",
    "else :\n",
    "    print(\"INVALID CRED.\")"
   ]
  },
  {
   "cell_type": "code",
   "execution_count": null,
   "metadata": {},
   "outputs": [],
   "source": [
    "# Methods on Dictionary\n",
    "print(d.values())\n",
    "print(d.keys())\n",
    "print(d.items())"
   ]
  },
  {
   "cell_type": "code",
   "execution_count": null,
   "metadata": {},
   "outputs": [],
   "source": [
    "len(d)"
   ]
  },
  {
   "cell_type": "code",
   "execution_count": null,
   "metadata": {},
   "outputs": [],
   "source": [
    "d = {1,2,3,4}"
   ]
  },
  {
   "cell_type": "code",
   "execution_count": null,
   "metadata": {},
   "outputs": [],
   "source": [
    "d"
   ]
  },
  {
   "cell_type": "code",
   "execution_count": null,
   "metadata": {},
   "outputs": [],
   "source": [
    "type(d)"
   ]
  },
  {
   "cell_type": "markdown",
   "metadata": {},
   "source": [
    "### Questions on Accessing Elements"
   ]
  },
  {
   "cell_type": "code",
   "execution_count": null,
   "metadata": {},
   "outputs": [],
   "source": [
    "l = [1,2,3,{34:'wer'},'890',1]"
   ]
  },
  {
   "cell_type": "code",
   "execution_count": null,
   "metadata": {},
   "outputs": [],
   "source": [
    "l[3][34]"
   ]
  },
  {
   "cell_type": "code",
   "execution_count": null,
   "metadata": {},
   "outputs": [],
   "source": [
    "l = [1,2,3,{34:['wer',(2,3,4,56778,['/',{12:3456,(12,8):123456}])]},'890',1]"
   ]
  },
  {
   "cell_type": "code",
   "execution_count": null,
   "metadata": {},
   "outputs": [],
   "source": [
    "l[3][34][1][4][1][12]"
   ]
  },
  {
   "cell_type": "markdown",
   "metadata": {},
   "source": [
    "# SETs"
   ]
  },
  {
   "cell_type": "code",
   "execution_count": null,
   "metadata": {},
   "outputs": [],
   "source": [
    "set([1,'2',2,2,3,4])"
   ]
  }
 ],
 "metadata": {
  "kernelspec": {
   "display_name": "Python 3",
   "language": "python",
   "name": "python3"
  },
  "language_info": {
   "codemirror_mode": {
    "name": "ipython",
    "version": 3
   },
   "file_extension": ".py",
   "mimetype": "text/x-python",
   "name": "python",
   "nbconvert_exporter": "python",
   "pygments_lexer": "ipython3",
   "version": "3.6.5"
  }
 },
 "nbformat": 4,
 "nbformat_minor": 2
}
